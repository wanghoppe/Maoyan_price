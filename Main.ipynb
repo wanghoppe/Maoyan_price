{
 "cells": [
  {
   "cell_type": "code",
   "execution_count": 19,
   "metadata": {
    "collapsed": true
   },
   "outputs": [],
   "source": [
    "from bs4 import BeautifulSoup\n",
    "import re\n",
    "from selenium import webdriver\n",
    "import time\n",
    "# from selenium.webdriver.common.keys import Keys\n",
    "# from selenium.webdriver.common.action_chains import ActionChains\n",
    "\n",
    "import mapping # Package to draw the digits and use nerual networks to recognize digits"
   ]
  },
  {
   "cell_type": "markdown",
   "metadata": {},
   "source": [
    "## method to save data to database"
   ]
  },
  {
   "cell_type": "code",
   "execution_count": 32,
   "metadata": {},
   "outputs": [],
   "source": [
    "def html2database(html):\n",
    "    \n",
    "    def translate(raw):\n",
    "        lst = []\n",
    "        for letter in raw:\n",
    "            if letter == '.':\n",
    "                lst.append(letter)\n",
    "            else:\n",
    "                lst.append(str(mapping.mapping_num(letter, para, fontfile)))\n",
    "        return ''.join(lst)\n",
    "\n",
    "    soup = BeautifulSoup(html, \"lxml\")\n",
    "\n",
    "    m_name = soup.find(class_=\"movie-name\").string\n",
    "    m_cinema = soup.title.string\n",
    "    m_date = soup.find(class_=\"showday active\").attrs['data-showday']\n",
    "\n",
    "    woff_source = re.findall(r\"data:application/font-woff;charset=utf-8;base64,(.\\S+)[)] format\", html)[0]\n",
    "\n",
    "    para = mapping.load_para()\n",
    "    fontfile = mapping.make_woff(woff_source)\n",
    "\n",
    "    info_lst =[]\n",
    "    if soup.tbody == None:\n",
    "        pass\n",
    "    else:\n",
    "        for tag in soup.tbody.children:\n",
    "            m_time = tag.strong.string\n",
    "            m_type = tag.find(class_ =\"stl-ver\").string\n",
    "            m_price_raw = tag.find(class_=\"stonefont\").string\n",
    "\n",
    "            m_price = translate(m_price_raw)\n",
    "\n",
    "            info_lst.append((m_time, m_type, m_price))\n",
    "\n",
    "        import dateutil.parser\n",
    "        import sqlite3\n",
    "\n",
    "        dateutil.parser.parse(\"2017-12-25 09:25\")\n",
    "\n",
    "        info_lst\n",
    "\n",
    "        con = sqlite3.connect(\"data.sqlite\")\n",
    "        cur = con.cursor()\n",
    "\n",
    "        cur.execute('''CREATE TABLE IF NOT EXISTS Moive\n",
    "                    (id INTEGER UNIQUE, cinema TEXT, name TEXT, time DATETIME, type TEXT, price DOUBLE)''')\n",
    "\n",
    "        cur.execute('''SELECT MAX(id) FROM Moive''')\n",
    "        num = cur.fetchone()\n",
    "\n",
    "        if num[0] == None:\n",
    "            num =0\n",
    "        else:\n",
    "            num = num[0]\n",
    "\n",
    "        for m_id, info in enumerate(info_lst):\n",
    "            cur.execute('''INSERT INTO Moive(id, cinema, name, time, type, price)\n",
    "                        VALUES (?, ?, ?, ?, ?, ?)''', \n",
    "                        (num+m_id+1, m_cinema, m_name, dateutil.parser.parse(m_date+' '+info[0]), info[1], info[2]))\n",
    "\n",
    "        con.commit()    "
   ]
  },
  {
   "cell_type": "markdown",
   "metadata": {},
   "source": [
    "## Scraping from the given url"
   ]
  },
  {
   "cell_type": "code",
   "execution_count": 34,
   "metadata": {},
   "outputs": [],
   "source": [
    "driver = webdriver.Chrome()\n",
    "driver.get(\"http://m.maoyan.com/shows/882?_v_=yes&date=2017-01-01\")\n",
    "\n",
    "elements = driver.find_elements_by_xpath(\"//img\")\n",
    "for ele in elements:\n",
    "    ele.click()\n",
    "    html2database(driver.page_source)\n",
    "    time_elements = driver.find_elements_by_xpath(\"//li[@class='showday']\")\n",
    "    for time_element in time_elements:\n",
    "        time_element.click()\n",
    "        html2database(driver.page_source)"
   ]
  }
 ],
 "metadata": {
  "kernelspec": {
   "display_name": "Python 3",
   "language": "python",
   "name": "python3"
  },
  "language_info": {
   "codemirror_mode": {
    "name": "ipython",
    "version": 3
   },
   "file_extension": ".py",
   "mimetype": "text/x-python",
   "name": "python",
   "nbconvert_exporter": "python",
   "pygments_lexer": "ipython3",
   "version": "3.6.1"
  }
 },
 "nbformat": 4,
 "nbformat_minor": 2
}
