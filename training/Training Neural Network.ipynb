{
 "cells": [
  {
   "cell_type": "code",
   "execution_count": 1,
   "metadata": {
    "collapsed": true
   },
   "outputs": [],
   "source": [
    "from PIL import Image\n",
    "import matplotlib.pyplot as plt\n",
    "from scipy import ndimage\n",
    "import numpy as np\n",
    "import scipy\n",
    "import re\n",
    "import json\n",
    "%matplotlib inline\n",
    "from dnn_app_utils_v2 import *"
   ]
  },
  {
   "cell_type": "code",
   "execution_count": 2,
   "metadata": {
    "collapsed": true
   },
   "outputs": [],
   "source": [
    "import subprocess\n",
    "import os"
   ]
  },
  {
   "cell_type": "markdown",
   "metadata": {},
   "source": [
    "## Override the L_layer_model to draw test set cost"
   ]
  },
  {
   "cell_type": "code",
   "execution_count": 47,
   "metadata": {
    "collapsed": true
   },
   "outputs": [],
   "source": [
    "# GRADED FUNCTION: L_layer_model\n",
    "\n",
    "def L_layer_model(X, Y, layers_dims, learning_rate = 0.0075, num_iterations = 3000, print_cost=False):#lr was 0.009\n",
    "    \"\"\"\n",
    "    Implements a L-layer neural network: [LINEAR->RELU]*(L-1)->LINEAR->SIGMOID.\n",
    "    \n",
    "    Arguments:\n",
    "    X -- data, numpy array of shape (number of examples, num_px * num_px * 3)\n",
    "    Y -- true \"label\" vector (containing 0 if cat, 1 if non-cat), of shape (1, number of examples)\n",
    "    layers_dims -- list containing the input size and each layer size, of length (number of layers + 1).\n",
    "    learning_rate -- learning rate of the gradient descent update rule\n",
    "    num_iterations -- number of iterations of the optimization loop\n",
    "    print_cost -- if True, it prints the cost every 100 steps\n",
    "    \n",
    "    Returns:\n",
    "    parameters -- parameters learnt by the model. They can then be used to predict.\n",
    "    \"\"\"\n",
    "\n",
    "    np.random.seed(1)\n",
    "    costs = []      # keep track of cost\n",
    "    costs_test = []\n",
    "    \n",
    "    # Parameters initialization.\n",
    "    ### START CODE HERE ###\n",
    "    parameters = initialize_parameters_deep(layers_dims)\n",
    "    ### END CODE HERE ###\n",
    "    \n",
    "    # Loop (gradient descent)\n",
    "    for i in range(0, num_iterations):\n",
    "\n",
    "        # Forward propagation: [LINEAR -> RELU]*(L-1) -> LINEAR -> SIGMOID.\n",
    "        ### START CODE HERE ### (≈ 1 line of code)\n",
    "        AL, caches = L_model_forward(X, parameters)\n",
    "        ### END CODE HERE ###\n",
    "        \n",
    "        # Compute cost.\n",
    "        ### START CODE HERE ### (≈ 1 line of code)\n",
    "        cost = compute_cost(AL, Y)\n",
    "        ### END CODE HERE ###\n",
    "    \n",
    "        # Backward propagation.\n",
    "        ### START CODE HERE ### (≈ 1 line of code)\n",
    "        grads = L_model_backward(AL, Y, caches)\n",
    "        ### END CODE HERE ###\n",
    " \n",
    "        # Update parameters.\n",
    "        ### START CODE HERE ### (≈ 1 line of code)\n",
    "        parameters = update_parameters(parameters, grads, learning_rate)\n",
    "        ### END CODE HERE ###\n",
    "        \n",
    "\n",
    "                \n",
    "        # Print the cost every 100 training example\n",
    "        if print_cost and i % 100 == 0:\n",
    "            print (\"Cost after iteration %i: %f\" %(i, cost))\n",
    "        if print_cost and i % 100 == 0:\n",
    "            costs.append(cost)\n",
    "            \n",
    "            AL_test = L_model_forward(x_test,parameters)[0]\n",
    "            cost_test = compute_cost(AL_test, y_test)\n",
    "            costs_test.append(cost_test)\n",
    "#             print(cost_test)\n",
    "            \n",
    "    # plot the cost\n",
    "    plt.plot(np.squeeze(costs))\n",
    "    plt.plot(np.squeeze(costs_test))\n",
    "    plt.ylabel('cost')\n",
    "    plt.xlabel('iterations (per tens)')\n",
    "    plt.title(\"Learning rate =\" + str(learning_rate))\n",
    "    plt.show()\n",
    "    \n",
    "    return parameters"
   ]
  },
  {
   "cell_type": "markdown",
   "metadata": {},
   "source": [
    "## Creating training set"
   ]
  },
  {
   "cell_type": "code",
   "execution_count": 3,
   "metadata": {
    "collapsed": true
   },
   "outputs": [],
   "source": [
    "font_lst = []\n",
    "curdir = os.getcwd()\n",
    "for root, dirs, files in os.walk(curdir + os.path.sep + 'fonts'):\n",
    "#     print(root, dirs, files, \"\\n\\n\")\n",
    "    for name in files:\n",
    "        single = os.path.join(root, name)\n",
    "        font_lst.append(single)\n",
    "\n",
    "for font_id, font in enumerate(font_lst):\n",
    "    for ii in range(10):\n",
    "        outdir = \"data\" + os.path.sep + str(ii) + '_' + str(font_id) + '.jpg'\n",
    "        subprocess.call([\"convert\", \"-background\", \"black\", \"-fill\", \"white\", \n",
    "                         \"-font\", font, \"-pointsize\", \"30\",\n",
    "                         \"label:\"+str(ii), outdir])"
   ]
  },
  {
   "cell_type": "markdown",
   "metadata": {},
   "source": [
    "## Loading trainning set"
   ]
  },
  {
   "cell_type": "code",
   "execution_count": 5,
   "metadata": {
    "collapsed": true
   },
   "outputs": [],
   "source": [
    "data_lst = []\n",
    "curdir = os.getcwd()\n",
    "for root, dirs, files in os.walk(curdir + os.path.sep + 'data'):\n",
    "#     print(root, dirs, files, \"\\n\\n\")\n",
    "    for name in files:\n",
    "        single = os.path.join(root, name)\n",
    "        data_lst.append(single)"
   ]
  },
  {
   "cell_type": "markdown",
   "metadata": {},
   "source": [
    "## make a random list to split the train and test set"
   ]
  },
  {
   "cell_type": "code",
   "execution_count": 9,
   "metadata": {
    "collapsed": true
   },
   "outputs": [],
   "source": [
    "lst_random = list(range(y_orgin2.shape[1]))\n",
    "np.random.shuffle(lst_random)"
   ]
  },
  {
   "cell_type": "code",
   "execution_count": 10,
   "metadata": {
    "collapsed": true
   },
   "outputs": [],
   "source": [
    "x_train = x_orgin[:,lst_random[:1000]]\n",
    "x_test = x_orgin[:,lst_random[1001:]]\n",
    "y_train = y_orgin2[:,lst_random[:1000]]\n",
    "y_test = y_orgin2[:,lst_random[1001:]]"
   ]
  },
  {
   "cell_type": "markdown",
   "metadata": {},
   "source": [
    "## Training"
   ]
  },
  {
   "cell_type": "code",
   "execution_count": 54,
   "metadata": {},
   "outputs": [
    {
     "name": "stdout",
     "output_type": "stream",
     "text": [
      "Cost after iteration 0: 6.962567\n",
      "6.91885795958\n",
      "Cost after iteration 100: 3.225738\n",
      "3.24337154391\n",
      "Cost after iteration 200: 2.834993\n",
      "2.85724052281\n",
      "Cost after iteration 300: 2.351791\n",
      "2.37235256734\n",
      "Cost after iteration 400: 1.936010\n",
      "1.95045816945\n",
      "Cost after iteration 500: 1.631807\n",
      "1.64082145029\n",
      "Cost after iteration 600: 1.381892\n",
      "1.38929045162\n",
      "Cost after iteration 700: 1.176910\n",
      "1.1829728869\n",
      "Cost after iteration 800: 1.009639\n",
      "1.01316821778\n",
      "Cost after iteration 900: 0.872304\n",
      "0.873441110106\n",
      "Cost after iteration 1000: 0.757660\n",
      "0.752236282821\n",
      "Cost after iteration 1100: 0.668200\n",
      "0.660179430968\n",
      "Cost after iteration 1200: 0.596525\n",
      "0.587186869669\n",
      "Cost after iteration 1300: 0.538388\n",
      "0.529126003362\n",
      "Cost after iteration 1400: 0.490168\n",
      "0.482137999814\n",
      "Cost after iteration 1500: 0.449746\n",
      "0.443847411002\n",
      "Cost after iteration 1600: 0.415305\n",
      "0.41198788851\n",
      "Cost after iteration 1700: 0.385790\n",
      "0.385658679521\n",
      "Cost after iteration 1800: 0.360163\n",
      "0.36324370068\n",
      "Cost after iteration 1900: 0.337672\n",
      "0.343919429404\n",
      "Cost after iteration 2000: 0.317733\n",
      "0.327247646305\n",
      "Cost after iteration 2100: 0.300014\n",
      "0.312766703592\n",
      "Cost after iteration 2200: 0.284054\n",
      "0.300043825578\n",
      "Cost after iteration 2300: 0.269637\n",
      "0.28875343148\n",
      "Cost after iteration 2400: 0.256527\n",
      "0.278702205474\n",
      "Cost after iteration 2500: 0.244553\n",
      "0.269660474017\n",
      "Cost after iteration 2600: 0.233538\n",
      "0.261524366664\n",
      "Cost after iteration 2700: 0.223301\n",
      "0.254213048727\n",
      "Cost after iteration 2800: 0.213839\n",
      "0.247566789263\n",
      "Cost after iteration 2900: 0.205060\n",
      "0.241471952611\n",
      "Cost after iteration 3000: 0.196925\n",
      "0.235991320576\n",
      "Cost after iteration 3100: 0.189378\n",
      "0.230905238798\n",
      "Cost after iteration 3200: 0.182310\n",
      "0.226270092778\n",
      "Cost after iteration 3300: 0.175666\n",
      "0.221953359565\n",
      "Cost after iteration 3400: 0.169451\n",
      "0.217954628955\n",
      "Cost after iteration 3500: 0.163570\n",
      "0.21413548188\n",
      "Cost after iteration 3600: 0.158034\n",
      "0.210757903925\n",
      "Cost after iteration 3700: 0.152853\n",
      "0.207610813771\n",
      "Cost after iteration 3800: 0.147949\n",
      "0.204627178111\n",
      "Cost after iteration 3900: 0.143304\n",
      "0.201825317677\n",
      "Cost after iteration 4000: 0.138920\n",
      "0.199133444313\n",
      "Cost after iteration 4100: 0.134745\n",
      "0.196611750646\n",
      "Cost after iteration 4200: 0.130757\n",
      "0.194203832291\n",
      "Cost after iteration 4300: 0.126963\n",
      "0.19189396631\n",
      "Cost after iteration 4400: 0.123344\n",
      "0.189701153469\n",
      "Cost after iteration 4500: 0.119878\n",
      "0.187618669706\n",
      "Cost after iteration 4600: 0.116564\n",
      "0.18560197235\n",
      "Cost after iteration 4700: 0.113391\n",
      "0.183685366588\n",
      "Cost after iteration 4800: 0.110346\n",
      "0.181856730234\n",
      "Cost after iteration 4900: 0.107433\n",
      "0.180136298341\n"
     ]
    },
    {
     "data": {
      "image/png": "[encoded data removed]",
      "text/plain": [
       "<matplotlib.figure.Figure at 0x7f273fad81d0>"
      ]
     },
     "metadata": {},
     "output_type": "display_data"
    }
   ],
   "source": [
    "para = L_layer_model(x_train, y_train, [600,100,20,10], learning_rate = 0.01, num_iterations = 5000, print_cost=True)"
   ]
  },
  {
   "cell_type": "markdown",
   "metadata": {
    "collapsed": true
   },
   "source": [
    "## test set accuracy"
   ]
  },
  {
   "cell_type": "code",
   "execution_count": 59,
   "metadata": {},
   "outputs": [
    {
     "name": "stdout",
     "output_type": "stream",
     "text": [
      "0.9781659388646288\n"
     ]
    }
   ],
   "source": [
    "s = 0\n",
    "for k,v in enumerate(y_orgin[0,lst_random[1001:]]):\n",
    "    if AL.argmax(0)[k] == v:\n",
    "        s += 1\n",
    "print (s/len(AL.argmax(0)*100))"
   ]
  },
  {
   "cell_type": "markdown",
   "metadata": {},
   "source": [
    "## Saving the parameter to numRegPara2.json"
   ]
  },
  {
   "cell_type": "code",
   "execution_count": 124,
   "metadata": {
    "collapsed": true
   },
   "outputs": [],
   "source": [
    "pare_lst = dict()\n",
    "for key, val in para.items():\n",
    "    pare_lst[key] = val.tolist()\n",
    "\n",
    "with open(\"numRegPara2.json\", \"w\") as f:\n",
    "    json.dump(pare_lst,f)"
   ]
  }
 ],
 "metadata": {
  "kernelspec": {
   "display_name": "Python 3",
   "language": "python",
   "name": "python3"
  },
  "language_info": {
   "codemirror_mode": {
    "name": "ipython",
    "version": 3
   },
   "file_extension": ".py",
   "mimetype": "text/x-python",
   "name": "python",
   "nbconvert_exporter": "python",
   "pygments_lexer": "ipython3",
   "version": "3.6.1"
  }
 },
 "nbformat": 4,
 "nbformat_minor": 2
}
